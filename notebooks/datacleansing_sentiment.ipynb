{
 "metadata": {
  "language_info": {
   "codemirror_mode": {
    "name": "ipython",
    "version": 3
   },
   "file_extension": ".py",
   "mimetype": "text/x-python",
   "name": "python",
   "nbconvert_exporter": "python",
   "pygments_lexer": "ipython3",
   "version": "3.9.0"
  },
  "orig_nbformat": 2,
  "kernelspec": {
   "name": "python3",
   "display_name": "Python 3",
   "language": "python"
  },
  "metadata": {
   "interpreter": {
    "hash": "36cf16204b8548560b1c020c4e8fb5b57f0e4c58016f52f2d4be01e192833930"
   }
  }
 },
 "nbformat": 4,
 "nbformat_minor": 2,
 "cells": [
  {
   "cell_type": "code",
   "execution_count": 41,
   "metadata": {},
   "outputs": [],
   "source": [
    "# import libaries\n",
    "\n",
    "import typing\n",
    "import pandas as pd"
   ]
  },
  {
   "source": [
    "# Data preparation for sentiment"
   ],
   "cell_type": "markdown",
   "metadata": {}
  },
  {
   "source": [
    "## 1: Dealing with missing values and data structure"
   ],
   "cell_type": "markdown",
   "metadata": {}
  },
  {
   "cell_type": "code",
   "execution_count": 42,
   "metadata": {},
   "outputs": [],
   "source": [
    "# Read the data from a csv file\n",
    "data = pd.read_csv(\"../data/stock_data.csv\")"
   ]
  },
  {
   "cell_type": "code",
   "execution_count": 43,
   "metadata": {},
   "outputs": [
    {
     "output_type": "execute_result",
     "data": {
      "text/plain": [
       "pandas.core.frame.DataFrame"
      ]
     },
     "metadata": {},
     "execution_count": 43
    }
   ],
   "source": [
    "# Confirming the data frame\n",
    "type(data)"
   ]
  },
  {
   "cell_type": "code",
   "execution_count": 44,
   "metadata": {},
   "outputs": [
    {
     "output_type": "execute_result",
     "data": {
      "text/plain": [
       "                                                Text  Sentiment\n",
       "0  Kickers on my watchlist XIDE TIT SOQ PNK CPW B...          1\n",
       "1  user: AAP MOVIE. 55% return for the FEA/GEED i...          1\n",
       "2  user I'd be afraid to short AMZN - they are lo...          1\n",
       "3                                  MNTA Over 12.00            1\n",
       "4                                   OI  Over 21.37            1"
      ],
      "text/html": "<div>\n<style scoped>\n    .dataframe tbody tr th:only-of-type {\n        vertical-align: middle;\n    }\n\n    .dataframe tbody tr th {\n        vertical-align: top;\n    }\n\n    .dataframe thead th {\n        text-align: right;\n    }\n</style>\n<table border=\"1\" class=\"dataframe\">\n  <thead>\n    <tr style=\"text-align: right;\">\n      <th></th>\n      <th>Text</th>\n      <th>Sentiment</th>\n    </tr>\n  </thead>\n  <tbody>\n    <tr>\n      <th>0</th>\n      <td>Kickers on my watchlist XIDE TIT SOQ PNK CPW B...</td>\n      <td>1</td>\n    </tr>\n    <tr>\n      <th>1</th>\n      <td>user: AAP MOVIE. 55% return for the FEA/GEED i...</td>\n      <td>1</td>\n    </tr>\n    <tr>\n      <th>2</th>\n      <td>user I'd be afraid to short AMZN - they are lo...</td>\n      <td>1</td>\n    </tr>\n    <tr>\n      <th>3</th>\n      <td>MNTA Over 12.00</td>\n      <td>1</td>\n    </tr>\n    <tr>\n      <th>4</th>\n      <td>OI  Over 21.37</td>\n      <td>1</td>\n    </tr>\n  </tbody>\n</table>\n</div>"
     },
     "metadata": {},
     "execution_count": 44
    }
   ],
   "source": [
    "# for showing all rows and columns\n",
    "pd.options.display.max_columns = None\n",
    "pd.options.display.max_rows = None\n",
    "\n",
    "data.head()"
   ]
  },
  {
   "cell_type": "code",
   "execution_count": 45,
   "metadata": {},
   "outputs": [
    {
     "output_type": "execute_result",
     "data": {
      "text/plain": [
       "(5791, 2)"
      ]
     },
     "metadata": {},
     "execution_count": 45
    }
   ],
   "source": [
    "# Show the \"shape\" of the data to determine how many rows and columns are in the dataset\n",
    "data.shape"
   ]
  },
  {
   "cell_type": "code",
   "execution_count": 46,
   "metadata": {},
   "outputs": [
    {
     "output_type": "stream",
     "name": "stdout",
     "text": [
      "<class 'pandas.core.frame.DataFrame'>\nRangeIndex: 5791 entries, 0 to 5790\nData columns (total 2 columns):\n #   Column     Non-Null Count  Dtype \n---  ------     --------------  ----- \n 0   Text       5791 non-null   object\n 1   Sentiment  5791 non-null   int64 \ndtypes: int64(1), object(1)\nmemory usage: 90.6+ KB\n"
     ]
    }
   ],
   "source": [
    "\"\"\"\n",
    "With help of pandas info function, I want to see with what kind of data we are working with. With that I mean, checking for NULL values and the kind of data types are stored in each column.\n",
    "\"\"\"\n",
    "data.info()"
   ]
  },
  {
   "cell_type": "code",
   "execution_count": 47,
   "metadata": {},
   "outputs": [
    {
     "output_type": "execute_result",
     "data": {
      "text/plain": [
       "array([False])"
      ]
     },
     "metadata": {},
     "execution_count": 47
    }
   ],
   "source": [
    "# Verifing if row values are not duplicated\n",
    "duplicated = data.duplicated()\n",
    "duplicated.unique()\n",
    "\n",
    "# If rows are found that are duplicated, they have to be droped\n",
    "\n",
    "# The (inplace = True) will make sure that the method does NOT return a new DataFrame, but it will remove all          # duplicates from the original DataFrame.\n",
    "\n",
    "# df.drop_duplicates(inplace = True) "
   ]
  },
  {
   "cell_type": "code",
   "execution_count": 48,
   "metadata": {},
   "outputs": [],
   "source": [
    "# Drop null values if excist \n",
    "# https://www.journaldev.com/33492/pandas-dropna-drop-null-na-values-from-dataframe\n",
    "\n",
    "# axis=0 -> index, axis=1 -> column\n",
    "# how=\"any\" -> drop the row/column if any of the values is null\n",
    "data = data.dropna(axis=0, how=\"any\")"
   ]
  },
  {
   "cell_type": "code",
   "execution_count": 49,
   "metadata": {},
   "outputs": [
    {
     "output_type": "execute_result",
     "data": {
      "text/plain": [
       "array(['Text', 'Sentiment'], dtype=object)"
      ]
     },
     "metadata": {},
     "execution_count": 49
    }
   ],
   "source": [
    "# Confirming the column values\n",
    "data.columns.values"
   ]
  },
  {
   "cell_type": "code",
   "execution_count": 50,
   "metadata": {},
   "outputs": [
    {
     "output_type": "execute_result",
     "data": {
      "text/plain": [
       "array([ 1, -1])"
      ]
     },
     "metadata": {},
     "execution_count": 50
    }
   ],
   "source": [
    "# To make sure we only have two unique values in the Sentiment column \n",
    "# 1 -> positiv, -1 -> negativ\n",
    "data['Sentiment'].unique()"
   ]
  },
  {
   "cell_type": "code",
   "execution_count": 51,
   "metadata": {},
   "outputs": [],
   "source": [
    "#data['Text']"
   ]
  },
  {
   "source": [
    "## Data cleansing"
   ],
   "cell_type": "markdown",
   "metadata": {}
  },
  {
   "source": [
    "### Removing stopwords from Text column\n",
    "Stop Words are words in the natural language that have very little meaning.\n",
    "While extracting information from text, these words don’t provide anything meaningful. Therefore it is a good practice to remove stop words from the text before using it to train machine learning models."
   ],
   "cell_type": "markdown",
   "metadata": {}
  },
  {
   "cell_type": "code",
   "execution_count": 52,
   "metadata": {},
   "outputs": [],
   "source": [
    "from nltk.corpus import stopwords\n",
    "# python -m nltk.downloader stopwords\n",
    "stop_words: typing.List = stopwords.words('english')"
   ]
  },
  {
   "cell_type": "code",
   "execution_count": 53,
   "metadata": {},
   "outputs": [],
   "source": [
    "# For adding or removing stopwords to the list\n",
    "\n",
    "# adding\n",
    "# stop_words.append('')\n",
    "\n",
    "# removing\n",
    "# stop_words.remove('')\n"
   ]
  },
  {
   "cell_type": "code",
   "execution_count": 54,
   "metadata": {},
   "outputs": [],
   "source": [
    "# \n",
    "# https://jackmckew.dev/sentiment-analysis-text-cleaning-in-python-with-vader.html\n",
    "\n",
    "# Convert to lowercase, and remove stop words\n",
    "\n",
    "def remove_links(text):\n",
    "    # Remove any hyperlinks that may be in the text starting with http\n",
    "    import re\n",
    "    return re.sub(r\"http\\S+\", \"\", text)\n",
    "\n",
    "def style_text(text:str):\n",
    "    # Convert to lowercase\n",
    "    return text.lower()\n",
    "\n",
    "def remove_words(text_data:str,list_of_words_to_remove: typing.List):\n",
    "    # Remove all words as specified in a custom list of words\n",
    "    return [item for item in text_data if item not in list_of_words_to_remove]\n",
    "\n",
    "def collapse_list_to_string(string_list):\n",
    "    # This is to join back together the text data into a single string\n",
    "    return ' '.join(string_list)\n",
    "\n",
    "def remove_apostrophes(text):\n",
    "    # Remove any apostrophes as these are irrelavent in our word cloud\n",
    "    text = text.replace(\"'\", \"\")\n",
    "    text = text.replace('\"', \"\")\n",
    "    text = text.replace('`', \"\")\n",
    "    return text"
   ]
  },
  {
   "cell_type": "code",
   "execution_count": 55,
   "metadata": {},
   "outputs": [],
   "source": [
    "data['Text'] = data['Text'].astype(str).apply(remove_links)"
   ]
  },
  {
   "cell_type": "code",
   "execution_count": 56,
   "metadata": {},
   "outputs": [],
   "source": [
    "data['Text'] = data['Text'].astype(str).apply(style_text)"
   ]
  },
  {
   "cell_type": "code",
   "execution_count": 57,
   "metadata": {},
   "outputs": [],
   "source": [
    "data['Text'] = data['Text'].astype(str).apply(lambda x: remove_words(x.split(),stop_words))"
   ]
  },
  {
   "cell_type": "code",
   "execution_count": 58,
   "metadata": {},
   "outputs": [],
   "source": [
    "data['Text'] = data['Text'].apply(collapse_list_to_string)"
   ]
  },
  {
   "cell_type": "code",
   "execution_count": 59,
   "metadata": {},
   "outputs": [],
   "source": [
    "data['Text'] = data['Text'].apply(remove_apostrophes)"
   ]
  },
  {
   "cell_type": "code",
   "execution_count": 60,
   "metadata": {},
   "outputs": [
    {
     "output_type": "display_data",
     "data": {
      "text/plain": "0    kickers watchlist xide tit soq pnk cpw bpz aj ...\n1    user: aap movie. 55% return fea/geed indicator...\n2    user id afraid short amzn - looking like near-...\n3                                           mnta 12.00\n4                                             oi 21.37\nName: Text, dtype: object"
     },
     "metadata": {}
    }
   ],
   "source": [
    "display(data['Text'].head(5))"
   ]
  },
  {
   "cell_type": "code",
   "execution_count": 69,
   "metadata": {},
   "outputs": [],
   "source": [
    " #display(data)"
   ]
  },
  {
   "cell_type": "code",
   "execution_count": 61,
   "metadata": {
    "tags": []
   },
   "outputs": [],
   "source": [
    "# Each row String needs to be split for further cleansing\n",
    " \n",
    "row_text = []\n",
    "\n",
    "for x in data['Text']:\n",
    "    sentence = x.split(' ')\n",
    "    row_text.append(sentence)\n"
   ]
  },
  {
   "cell_type": "code",
   "execution_count": 62,
   "metadata": {
    "tags": []
   },
   "outputs": [],
   "source": [
    "row_text_without_stopwords = []\n",
    "\n",
    "for list in row_text:\n",
    "    row_text_without_stopwords.append([word for word in list if not word in stop_words])\n"
   ]
  },
  {
   "cell_type": "code",
   "execution_count": 63,
   "metadata": {},
   "outputs": [
    {
     "output_type": "execute_result",
     "data": {
      "text/plain": [
       "5791"
      ]
     },
     "metadata": {},
     "execution_count": 63
    }
   ],
   "source": [
    "row_text_without_stopwords.__len__()"
   ]
  },
  {
   "cell_type": "code",
   "execution_count": 65,
   "metadata": {
    "tags": []
   },
   "outputs": [],
   "source": [
    "# Delete all abbreviations\n",
    "\n",
    "row_text_abbreviations = []\n",
    "\n",
    "for index, sentence in enumerate(row_text_without_stopwords):\n",
    "    for index, word in enumerate(sentence):\n",
    "        if (word.__len__() == 2 or word.__len__() == 3) and word[0].isupper() and word[1].isupper():\n",
    "            sentence[index].replace(word, \" \")\n",
    "            row_text_abbreviations.append(sentence)\n",
    "\n",
    "#row_text_abbreviations\n",
    "        "
   ]
  },
  {
   "cell_type": "code",
   "execution_count": 66,
   "metadata": {
    "tags": []
   },
   "outputs": [],
   "source": [
    "# Replacing uppercase words with lowercase words\n",
    "\n",
    "row_text_lowercase = []\n",
    "\n",
    "for list in row_text_without_stopwords:\n",
    "    row_text_lowercase.append([x.lower() for x in list])\n",
    "        "
   ]
  },
  {
   "cell_type": "code",
   "execution_count": null,
   "metadata": {},
   "outputs": [],
   "source": []
  }
 ]
}